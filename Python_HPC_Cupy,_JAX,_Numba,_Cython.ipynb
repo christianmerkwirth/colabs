{
  "nbformat": 4,
  "nbformat_minor": 0,
  "metadata": {
    "accelerator": "GPU",
    "colab": {
      "name": "Python HPC: Cupy, JAX, Numba, Cython ",
      "provenance": [],
      "collapsed_sections": [
        "Tr-xR8uTAYv0"
      ],
      "machine_shape": "hm",
      "include_colab_link": true
    },
    "kernelspec": {
      "display_name": "Python 3",
      "name": "python3"
    }
  },
  "cells": [
    {
      "cell_type": "markdown",
      "metadata": {
        "id": "view-in-github",
        "colab_type": "text"
      },
      "source": [
        "<a href=\"https://colab.research.google.com/github/christianmerkwirth/colabs/blob/master/Python_HPC_Cupy%2C_JAX%2C_Numba%2C_Cython.ipynb\" target=\"_parent\"><img src=\"https://colab.research.google.com/assets/colab-badge.svg\" alt=\"Open In Colab\"/></a>"
      ]
    },
    {
      "cell_type": "markdown",
      "metadata": {
        "id": "UtAjnNkYAYvh"
      },
      "source": [
        "# HPC Python code with JAX, Numba & Cupy\n",
        "\n",
        "This Colab notebook shows example of high performance numerical code in Python. It is based strongly on a notebook published by Wolfgang Resch (https://github.com/NIH-HPC/python-in-hpc), which itself follows a [gist](https://gist.github.com/jfpuget/60e07a82dece69b011bb) published by Jean-François Puget fairly closely which in turn was inspired by an IBM developerworks [article](https://www.ibm.com/developerworks/community/blogs/jfp/entry/How_To_Compute_Mandelbrodt_Set_Quickly?lang=en) from 2015. The idea is to start with a plain python implementation of the [Mandelbrot set](https://en.wikipedia.org/wiki/Mandelbrot_set), profile the code, and evaluate different approaches to optimizing the performance.\n",
        "\n",
        "If you want to run all the implementations the Colab needs to be connected to a GPU kernel. Nothing more should be required.\n",
        "\n",
        "Author: Christian Merkwirth"
      ]
    },
    {
      "cell_type": "markdown",
      "metadata": {
        "id": "0sHprMcfAYvq"
      },
      "source": [
        "## Setup\n",
        "\n",
        "We'll need numpy and numba. Matplotlib is used for plotting the sets."
      ]
    },
    {
      "cell_type": "code",
      "metadata": {
        "colab": {
          "base_uri": "https://localhost:8080/"
        },
        "id": "ntAunKi2AYvq",
        "outputId": "07ecda33-1ad8-4a8b-ccfa-58fc4a1a5c26"
      },
      "source": [
        "import sys\n",
        "import os\n",
        "import copy\n",
        "import inspect\n",
        "import logging\n",
        "import math\n",
        "from types import ModuleType\n",
        "from typing import Optional, Any, List, Union\n",
        "import collections\n",
        "from dataclasses import dataclass, asdict\n",
        "\n",
        "os.environ['XLA_PYTHON_CLIENT_MEM_FRACTION'] = \".25\"\n",
        "\n",
        "%load_ext cython\n",
        "import pyximport; pyximport.install(reload_support=True)\n",
        "\n",
        "%tensorflow_version 2.x\n",
        "import tensorflow as tf\n",
        "import tensorflow_probability as tfp\n",
        "from tensorflow.keras import layers\n",
        "import tensorflow_addons as tfa\n",
        "\n",
        "print(tf.__version__)\n",
        "\n",
        "import jax\n",
        "import jax.numpy as jnp\n",
        "from jax import pmap, vmap\n",
        "\n",
        "import numpy as np\n",
        "import pandas as pd\n",
        "import random\n",
        "\n",
        "np.set_printoptions(linewidth=120, precision=2, suppress=True)\n",
        "\n",
        "import numba\n",
        "from numba import jit, njit, vectorize, cuda, prange, guvectorize, int32, int64, float32, float64\n",
        "\n",
        "import tensorflow.experimental.numpy as tnp\n",
        "\n",
        "from pandas.plotting import register_matplotlib_converters\n",
        "pd.options.display.max_columns = 999\n",
        "pd.options.display.max_rows = 100\n",
        "\n",
        "%matplotlib inline\n",
        "import matplotlib as mpl\n",
        "from matplotlib import pyplot as plt\n",
        "from matplotlib import colors\n",
        "import matplotlib.dates as mdates\n",
        "import seaborn as sns\n",
        "\n",
        "register_matplotlib_converters()\n",
        "\n",
        "sns.set_context(\"notebook\", font_scale=1.)\n",
        "sns.set_style(\"whitegrid\")\n",
        "%config InlineBackend.figure_format = 'retina'\n",
        "\n",
        "from IPython.core.pylabtools import figsize\n",
        "figsize(12, 11)\n",
        "\n",
        "!/usr/local/cuda/bin/nvcc --version"
      ],
      "execution_count": 1,
      "outputs": [
        {
          "output_type": "stream",
          "text": [
            "2.4.0\n",
            "nvcc: NVIDIA (R) Cuda compiler driver\n",
            "Copyright (c) 2005-2019 NVIDIA Corporation\n",
            "Built on Sun_Jul_28_19:07:16_PDT_2019\n",
            "Cuda compilation tools, release 10.1, V10.1.243\n"
          ],
          "name": "stdout"
        }
      ]
    },
    {
      "cell_type": "markdown",
      "metadata": {
        "id": "iaK2m5d50y52"
      },
      "source": [
        "# Challenge 1: Mandelbrot Set"
      ]
    },
    {
      "cell_type": "markdown",
      "metadata": {
        "id": "2o6Jip9kAYvr"
      },
      "source": [
        "\n",
        "\n",
        "The plotting function draws a pretty picture which is a quick way to verify that the results returned by the various `mandel_set` function implementations are correct. The first argument is a `mandel_set` function that returns a 2D array(-like) object that can be plotted."
      ]
    },
    {
      "cell_type": "code",
      "metadata": {
        "id": "UpkzQffeAYvs"
      },
      "source": [
        "def mandelbrot_image(fun, **kwargs):\n",
        "    cmap='magma'\n",
        "    z = fun(**kwargs)\n",
        "    \n",
        "    fig, ax = plt.subplots(figsize=(7,7), dpi=150)\n",
        "    plt.xticks([])\n",
        "    plt.yticks([])\n",
        "\n",
        "    if len(kwargs):\n",
        "      plt.title(\"[{xmin}, {ymin}] to [{xmax}, {ymax}]\".format(**kwargs))\n",
        "    \n",
        "    norm = colors.PowerNorm(0.3)\n",
        "    ax.imshow(z,cmap=cmap,origin='lower',norm=norm)\n",
        "\n",
        "\n",
        "# Argument sets for the mandelbrot function\n",
        "fast_args = {\n",
        "    'xmin': -2.0,\n",
        "    'xmax': 0.5,\n",
        "    'ymin': -1.25,\n",
        "    'ymax': 1.25,\n",
        "    'width': 1024,\n",
        "    'height': 1024,\n",
        "    'maxiter': 80\n",
        "}\n",
        "\n",
        "slow_args = {\n",
        "    'xmin': -0.74877,\n",
        "    'xmax': -0.74872,\n",
        "    'ymin': 0.06505,\n",
        "    'ymax': 0.06510,\n",
        "    'width': 1024,\n",
        "    'height': 1024,\n",
        "    'maxiter': 2048\n",
        "}\n",
        "\n",
        "# Let's store benchmarking results for later use.\n",
        "@dataclass\n",
        "class TimingResult:\n",
        "  name: str\n",
        "  uses_gpu: bool\n",
        "  timing_result1: Union[List, float]\n",
        "  timing_result2: Union[List, float]\n",
        "\n",
        "\n",
        "def get_timing(timeit_res):\n",
        "  return timeit_res.best\n",
        "\n",
        "all_results = []"
      ],
      "execution_count": 2,
      "outputs": []
    },
    {
      "cell_type": "markdown",
      "metadata": {
        "id": "BxyaVYD4nIbb"
      },
      "source": [
        "## CPU based implementations"
      ]
    },
    {
      "cell_type": "markdown",
      "metadata": {
        "id": "zQmXL46tAYvs"
      },
      "source": [
        "### Pure python\n",
        "\n",
        "This is the baseline, pure python mandelbrot set. It uses a nested list as a 2D array-like object."
      ]
    },
    {
      "cell_type": "code",
      "metadata": {
        "id": "wEtuh4wNAYvt"
      },
      "source": [
        "def linspace(start, stop, n):\n",
        "    step = float(stop - start) / (n - 1)\n",
        "    return [start + i * step for i in range(n)]\n",
        "\n",
        "def mandel1(c, maxiter):\n",
        "    z = c\n",
        "    for n in range(maxiter):\n",
        "        if abs(z) > 2:\n",
        "            return n\n",
        "        z = z*z + c\n",
        "    return n\n",
        "\n",
        "def mandel_set1(xmin, xmax, ymin, ymax, width, height, maxiter):\n",
        "    r = linspace(xmin, xmax, width)\n",
        "    i = linspace(ymin, ymax, height)\n",
        "    n = [[0]*width for _ in range(height)]\n",
        "    for x in range(width):\n",
        "        for y in range(height):\n",
        "            n[y][x] = mandel1(complex(r[x], i[y]), maxiter)\n",
        "    return n"
      ],
      "execution_count": 3,
      "outputs": []
    },
    {
      "cell_type": "markdown",
      "metadata": {
        "id": "vNI87BEpAYvt"
      },
      "source": [
        "We'll use two areas of the Mandelbrot set as benchmarks for the code in this notebook:\n",
        "\n",
        " - the first, `(xmin, xmax, ymin, ymax, width, height, maxiter)` runs quicker and is used in each section of the notebook\n",
        " - the second `(xmin=-0.74877, xmax=-0.74872, ymin=0.06505, ymax=0.06510, width=1000, height=1000, maxiter=2048)` requires considerable more compute time.\n",
        " - Other sets covering the same area as set2 but at a higher resolution may be used in some circumstances"
      ]
    },
    {
      "cell_type": "code",
      "metadata": {
        "colab": {
          "base_uri": "https://localhost:8080/"
        },
        "id": "RohtKPlXAYvu",
        "outputId": "ca9d9a81-5c42-4ae2-d6ae-052605cbf63e"
      },
      "source": [
        "t1 = %timeit -o mandel_set1(**fast_args)"
      ],
      "execution_count": 4,
      "outputs": [
        {
          "output_type": "stream",
          "text": [
            "1 loop, best of 3: 3.88 s per loop\n"
          ],
          "name": "stdout"
        }
      ]
    },
    {
      "cell_type": "code",
      "metadata": {
        "id": "R2yMn-AoAYvv"
      },
      "source": [
        "t2 = %timeit -o mandel_set1(**slow_args)\n",
        "#t2 = t1"
      ],
      "execution_count": null,
      "outputs": []
    },
    {
      "cell_type": "code",
      "metadata": {
        "id": "6MHjDCU9qsgu"
      },
      "source": [
        "all_results.append(\n",
        "    TimingResult(\n",
        "        name='Pure Python',\n",
        "        uses_gpu = False,\n",
        "        timing_result1 = get_timing(t1),\n",
        "        timing_result2 = get_timing(t2)))"
      ],
      "execution_count": null,
      "outputs": []
    },
    {
      "cell_type": "markdown",
      "metadata": {
        "id": "UjvIsPmSAYvw"
      },
      "source": [
        "Let's plot the two areas - the second plot will take a while."
      ]
    },
    {
      "cell_type": "code",
      "metadata": {
        "id": "ycNf30eOAYvw"
      },
      "source": [
        "mandelbrot_image(mandel_set1, **fast_args)"
      ],
      "execution_count": null,
      "outputs": []
    },
    {
      "cell_type": "code",
      "metadata": {
        "id": "c3mowje8AYvw"
      },
      "source": [
        "#mandelbrot_image(mandel_set1, **slow_args)"
      ],
      "execution_count": null,
      "outputs": []
    },
    {
      "cell_type": "markdown",
      "metadata": {
        "id": "FMAZ8_P2AYvw"
      },
      "source": [
        "So what is taking so long? Let's profile the code:"
      ]
    },
    {
      "cell_type": "code",
      "metadata": {
        "id": "Np79aYN4AYvx"
      },
      "source": [
        "p = %prun -r -q mandel_set1(**fast_args)\n",
        "p.stream = sys.stdout\n",
        "p.sort_stats('cumulative').print_stats(5)"
      ],
      "execution_count": null,
      "outputs": []
    },
    {
      "cell_type": "markdown",
      "metadata": {
        "id": "7wq5VluHAYvx"
      },
      "source": [
        "Simpler, but with less control over the output"
      ]
    },
    {
      "cell_type": "code",
      "metadata": {
        "id": "SkjNVz4LAYvx"
      },
      "source": [
        "#%prun -s cumulative mandel_set1(**fast_args)"
      ],
      "execution_count": null,
      "outputs": []
    },
    {
      "cell_type": "markdown",
      "metadata": {
        "id": "dvSiRE5EAYvx"
      },
      "source": [
        "Again, the corresponding command line would be\n",
        "\n",
        "```shell\n",
        "$ python -m cProfile -s cumulative mandel01.py\n",
        "```\n",
        "\n",
        "However, for this to work, the script needs to be executable.\n",
        "\n",
        "The profile above shows that most of the runtime is spent in the `mandel1` function. Let's get a line-by-line profile of that function"
      ]
    },
    {
      "cell_type": "code",
      "metadata": {
        "id": "yIwHrqTPAYvy"
      },
      "source": [
        "#%lprun -f mandel1 mandel_set1(**fast_args)"
      ],
      "execution_count": null,
      "outputs": []
    },
    {
      "cell_type": "markdown",
      "metadata": {
        "id": "A_gm59VaAYvy"
      },
      "source": [
        "There is an algorithmic improvement that could be made here: Most of the time in this function is spent on calculating the absolute value and the value of the next iteration. Both of those involve redundant steps that can be factored out. Later on we will implement this, but for now let's try the simplest approach."
      ]
    },
    {
      "cell_type": "markdown",
      "metadata": {
        "id": "9nIxH6H3AYvy"
      },
      "source": [
        "### Implementation: JIT compiling with numba\n",
        "\n",
        "[Numba](https://numba.pydata.org/) is a `numpy` aware dynamic Python compiler using LLVM. It can speed up math-heavy, array oriented code with just some minor annotations. At the top of the notebook we imported the `jit` decorator from the numba package. The only modification to the code is decorating the `mandel` function. Note that numba cannot jit compile the current implementation of the `mandel_set` function due to the use of nested lists."
      ]
    },
    {
      "cell_type": "code",
      "metadata": {
        "id": "Km7XxKWGAYvy"
      },
      "source": [
        "@jit(nopython=True)\n",
        "def mandel2(c, maxiter):\n",
        "    z = c\n",
        "    for n in range(maxiter):\n",
        "        if abs(z) > 2:\n",
        "            return n\n",
        "        z = z*z + c\n",
        "    return n\n",
        "\n",
        "def mandel_set2(xmin, xmax, ymin, ymax, width, height, maxiter):\n",
        "    r = linspace(xmin, xmax, width)\n",
        "    i = linspace(ymin, ymax, height)\n",
        "    n = [[0]*width for _ in range(height)]\n",
        "    for x in range(width):\n",
        "        for y in range(height):\n",
        "            n[y][x] = mandel2(complex(r[x], i[y]), maxiter)\n",
        "    return n\n",
        "\n",
        "# warm up jit\n",
        "_ = mandel_set2(**fast_args)"
      ],
      "execution_count": null,
      "outputs": []
    },
    {
      "cell_type": "code",
      "metadata": {
        "id": "sW2oZ3ExAYvz",
        "scrolled": true
      },
      "source": [
        "t1 = %timeit -o mandel_set2(**fast_args)"
      ],
      "execution_count": null,
      "outputs": []
    },
    {
      "cell_type": "code",
      "metadata": {
        "id": "acp0mFz0AYvz"
      },
      "source": [
        "t2 = %timeit -o mandel_set2(**slow_args)"
      ],
      "execution_count": null,
      "outputs": []
    },
    {
      "cell_type": "code",
      "metadata": {
        "id": "l-RxIzcXt5pn"
      },
      "source": [
        "all_results.append(\n",
        "    TimingResult(\n",
        "        name='Numba Simple',\n",
        "        uses_gpu = False,\n",
        "        timing_result1 = get_timing(t1),\n",
        "        timing_result2 = get_timing(t2)))"
      ],
      "execution_count": null,
      "outputs": []
    },
    {
      "cell_type": "markdown",
      "metadata": {
        "id": "ZzV4X4LQAYvz"
      },
      "source": [
        "Now, reprofiling shows that the majority of the remaining runtime is spent in the `mandel_set` function"
      ]
    },
    {
      "cell_type": "code",
      "metadata": {
        "id": "0uDJqczTAYv0"
      },
      "source": [
        "%prun -s cumulative mandel_set2(**fast_args)"
      ],
      "execution_count": null,
      "outputs": []
    },
    {
      "cell_type": "markdown",
      "metadata": {
        "id": "u9mefKbEAYv0"
      },
      "source": [
        "Let's do a line profile on that"
      ]
    },
    {
      "cell_type": "code",
      "metadata": {
        "id": "bUHhCQ2LAYv0"
      },
      "source": [
        "#%lprun -f mandel_set2 mandel_set2(**fast_args)"
      ],
      "execution_count": null,
      "outputs": []
    },
    {
      "cell_type": "markdown",
      "metadata": {
        "id": "Tr-xR8uTAYv0"
      },
      "source": [
        "### Implementation 3: Numpy arrays\n",
        "\n",
        "[Numpy](http://www.numpy.org/) is the fundamental Python array computation package. Numpy arrays are much more efficient that python lists or arrays. So does changing from lists to numpy arrays in the `mandel_set` function improve performance?"
      ]
    },
    {
      "cell_type": "code",
      "metadata": {
        "id": "lqDxT7UjAYv1"
      },
      "source": [
        "@njit(fastmath=True)\n",
        "def mandel3(c, maxiter):\n",
        "    z = c\n",
        "    for n in range(maxiter):\n",
        "        if abs(z) > 2:\n",
        "            return n\n",
        "        z = z*z + c\n",
        "    return 0\n",
        "\n",
        "def mandel_set3(xmin, xmax, ymin, ymax, width, height, maxiter):\n",
        "    r = np.linspace(xmin, xmax, width)\n",
        "    i = np.linspace(ymin, ymax, height)\n",
        "    n = np.empty((height, width), dtype=int)\n",
        "    for x in range(width):\n",
        "        for y in range(height):\n",
        "            n[y, x] = mandel3(complex(r[x], i[y]), maxiter)\n",
        "    return n\n",
        "\n",
        "# warm up jit\n",
        "_ = mandel_set3(**fast_args)"
      ],
      "execution_count": null,
      "outputs": []
    },
    {
      "cell_type": "code",
      "metadata": {
        "id": "WWcCEb-PAYv1"
      },
      "source": [
        "t1 = %timeit -o mandel_set3(**fast_args)"
      ],
      "execution_count": null,
      "outputs": []
    },
    {
      "cell_type": "code",
      "metadata": {
        "id": "2CTik7LOAYv1"
      },
      "source": [
        "t2 = %timeit -o mandel_set3(**slow_args)"
      ],
      "execution_count": null,
      "outputs": []
    },
    {
      "cell_type": "code",
      "metadata": {
        "id": "h23sRPygt7cB"
      },
      "source": [
        "all_results.append(\n",
        "    TimingResult(\n",
        "        name='Numba & Numpy',\n",
        "        uses_gpu = False,\n",
        "        timing_result1 = get_timing(t1),\n",
        "        timing_result2 = get_timing(t2)))"
      ],
      "execution_count": null,
      "outputs": []
    },
    {
      "cell_type": "markdown",
      "metadata": {
        "id": "agLd2FJ8AYv1"
      },
      "source": [
        "No it did not - it actually is a bit slower. This might change with larger arrays. But either way, now we can jit compile it.\n",
        "\n",
        "### Implementation: Numba jit compile the second function\n",
        "\n",
        "Again, the only thing that has to change in the code is the `@jit` decorator. Note that for `np.empty`, `dtype=int` fails"
      ]
    },
    {
      "cell_type": "code",
      "metadata": {
        "id": "CQVaEGsYAYv2"
      },
      "source": [
        "@njit(fastmath=True)\n",
        "def mandel4(c, maxiter):\n",
        "    z = c\n",
        "    for n in range(maxiter):\n",
        "        if abs(z) > 2:\n",
        "            return n\n",
        "        z = z*z + c\n",
        "    return n\n",
        "\n",
        "@njit\n",
        "def mandel_set4(xmin, xmax, ymin, ymax, width, height, maxiter):\n",
        "    r = np.linspace(xmin, xmax, width)\n",
        "    i = np.linspace(ymin, ymax, height)\n",
        "    n = np.empty((height, width), dtype=np.int32)\n",
        "    for x in range(width):\n",
        "        for y in range(height):\n",
        "            n[y, x] = mandel4(complex(r[x], i[y]), maxiter)\n",
        "    return n\n",
        "\n",
        "# warm up jit\n",
        "_ = mandel_set4(**fast_args)"
      ],
      "execution_count": null,
      "outputs": []
    },
    {
      "cell_type": "code",
      "metadata": {
        "id": "OxHpRZ5uAYv2",
        "scrolled": true
      },
      "source": [
        "t1 = %timeit -o mandel_set4(**fast_args)"
      ],
      "execution_count": null,
      "outputs": []
    },
    {
      "cell_type": "code",
      "metadata": {
        "id": "PmOVDwk5AYv2"
      },
      "source": [
        "t2 = %timeit -o mandel_set4(**slow_args)"
      ],
      "execution_count": null,
      "outputs": []
    },
    {
      "cell_type": "code",
      "metadata": {
        "id": "CY1jIP-gt8lW"
      },
      "source": [
        "all_results.append(\n",
        "    TimingResult(\n",
        "        name='Numba all functions',\n",
        "        uses_gpu = False,\n",
        "        timing_result1 = get_timing(t1),\n",
        "        timing_result2 = get_timing(t2)))"
      ],
      "execution_count": null,
      "outputs": []
    },
    {
      "cell_type": "markdown",
      "metadata": {
        "id": "Me5_SfSsAYv2"
      },
      "source": [
        "Note: We can't line_profile the jit functions"
      ]
    },
    {
      "cell_type": "markdown",
      "metadata": {
        "id": "aILFOY13AYv2"
      },
      "source": [
        "### Implementation: Improve the math and run the code in parallel\n",
        "\n",
        "The following are the definition of the square of complex numbers, the absolute value, and the sum of two complex numbers:\n",
        "\n",
        "$$\n",
        "\\begin{aligned}\n",
        "(a + bi)^2 &= (a + bi)(a + bi) = (a^2 - b^2) + 2abi \\\\\n",
        "|a + bi| &= \\sqrt{a^2 + b^2} \\\\\n",
        "(a + bi) + (c + di) &= (a + c) + (b + d)i\n",
        "\\end{aligned}\n",
        "$$\n",
        "\n",
        "Based on this, we can factor out some redundant calculations by passing the real and imaginary parts of the complex numbers directly to the `mandel` function and calculating their squares separately only once and avoiding the square root computation."
      ]
    },
    {
      "cell_type": "code",
      "metadata": {
        "id": "NLiYRrfEAYv3"
      },
      "source": [
        "@njit(fastmath=True)\n",
        "def mandel5(creal, cimag, maxiter):\n",
        "    real = creal\n",
        "    imag = cimag\n",
        "    for n in range(maxiter):\n",
        "        real2 = real*real\n",
        "        imag2 = imag*imag\n",
        "        if real2 + imag2 > 4.0:\n",
        "            return n\n",
        "        imag = 2 * real*imag + cimag\n",
        "        real = real2 - imag2 + creal       \n",
        "    return n\n",
        "\n",
        "@njit(parallel=True)\n",
        "def mandel_set5(xmin, xmax, ymin, ymax, width, height, maxiter):\n",
        "    r = np.linspace(xmin, xmax, width)\n",
        "    i = np.linspace(ymin, ymax, height)\n",
        "    n = np.empty((height, width), dtype=np.int32)\n",
        "    for x in prange(width):\n",
        "        for y in range(height):\n",
        "            n[y, x] = mandel5(r[x], i[y], maxiter)\n",
        "    return n\n",
        "\n",
        "# warm up jit\n",
        "_ = mandel_set5(**fast_args)"
      ],
      "execution_count": null,
      "outputs": []
    },
    {
      "cell_type": "code",
      "metadata": {
        "id": "ZZ-A7e4pAYv3"
      },
      "source": [
        "t1 = %timeit -o mandel_set5(**fast_args)"
      ],
      "execution_count": null,
      "outputs": []
    },
    {
      "cell_type": "code",
      "metadata": {
        "id": "wl8P-fVTAYv3"
      },
      "source": [
        "t2 = %timeit -o mandel_set5(**slow_args)"
      ],
      "execution_count": null,
      "outputs": []
    },
    {
      "cell_type": "code",
      "metadata": {
        "id": "7EEEtfkMt91K"
      },
      "source": [
        "all_results.append(\n",
        "    TimingResult(\n",
        "        name='Numba parallel',\n",
        "        uses_gpu = False,\n",
        "        timing_result1 = get_timing(t1),\n",
        "        timing_result2 = get_timing(t2)))"
      ],
      "execution_count": null,
      "outputs": []
    },
    {
      "cell_type": "markdown",
      "metadata": {
        "id": "DOIkLR8RAYv4"
      },
      "source": [
        "Checking that the results are still correct:"
      ]
    },
    {
      "cell_type": "code",
      "metadata": {
        "id": "TN48Xe5YAYv4"
      },
      "source": [
        "mandelbrot_image(mandel_set5, **fast_args)"
      ],
      "execution_count": null,
      "outputs": []
    },
    {
      "cell_type": "markdown",
      "metadata": {
        "id": "ccHtm8ewAYv4"
      },
      "source": [
        "And drawing the slower slice is much more pleasant now:"
      ]
    },
    {
      "cell_type": "code",
      "metadata": {
        "id": "Ej55mv1mAYv4"
      },
      "source": [
        "mandelbrot_image(mandel_set5, **slow_args)"
      ],
      "execution_count": null,
      "outputs": []
    },
    {
      "cell_type": "markdown",
      "metadata": {
        "id": "kYec7hluAYv4"
      },
      "source": [
        "### Implementation: Cython\n",
        "\n",
        "[Cython](http://cython.org/) is a static compiler for Python plus the Cython extensions such as static type definitions. It generates C code that uses the Python C API to create C extensions.\n",
        "\n",
        "How does a cythonized version of implementation 5 perform? To conveniently use cython code in a jupyter notebook, we'll load the cython extension first. Under the hood, this will generate C code, compile the extension module, and load it."
      ]
    },
    {
      "cell_type": "code",
      "metadata": {
        "id": "JjoQWSgfAYv5"
      },
      "source": [
        "%%cython\n",
        "import cython\n",
        "import numpy as np\n",
        "\n",
        "cdef int mandel6(const double creal, const double cimag, const int maxiter):\n",
        "    cdef:\n",
        "        double real2, imag2\n",
        "        double real = creal, imag = cimag\n",
        "        int n\n",
        "\n",
        "    for n in range(maxiter):\n",
        "        real2 = real*real\n",
        "        imag2 = imag*imag\n",
        "        if real2 + imag2 > 4.0:\n",
        "            return n\n",
        "        imag = 2* real*imag + cimag\n",
        "        real = real2 - imag2 + creal;\n",
        "    return n\n",
        "\n",
        "@cython.boundscheck(False) \n",
        "@cython.wraparound(False)\n",
        "cpdef mandel_set6(double xmin, double xmax, double ymin, double ymax, int width, int height, int maxiter):\n",
        "    cdef:\n",
        "        double[:] r1 = np.linspace(xmin, xmax, width)\n",
        "        double[:] r2 = np.linspace(ymin, ymax, height)\n",
        "        int[:,:] n = np.empty((height, width), np.int32)\n",
        "        int i,j\n",
        "    \n",
        "    for i in range(width):\n",
        "        for j in range(height):\n",
        "            n[j,i] = mandel6(r1[i], r2[j], maxiter)\n",
        "    return n"
      ],
      "execution_count": null,
      "outputs": []
    },
    {
      "cell_type": "code",
      "metadata": {
        "id": "EBxiGVs7AYv5"
      },
      "source": [
        "t1 = %timeit -o mandel_set6(**fast_args)"
      ],
      "execution_count": null,
      "outputs": []
    },
    {
      "cell_type": "code",
      "metadata": {
        "id": "gkRYHdFXAYv6"
      },
      "source": [
        "t2 = %timeit -o mandel_set6(**slow_args)"
      ],
      "execution_count": null,
      "outputs": []
    },
    {
      "cell_type": "code",
      "metadata": {
        "id": "mMEjC3Pot_70"
      },
      "source": [
        "all_results.append(\n",
        "    TimingResult(\n",
        "        name='Cython',\n",
        "        uses_gpu = False,\n",
        "        timing_result1 = get_timing(t1),\n",
        "        timing_result2 = get_timing(t2)))"
      ],
      "execution_count": null,
      "outputs": []
    },
    {
      "cell_type": "code",
      "metadata": {
        "id": "stlhHw9gAYv6"
      },
      "source": [
        "mandelbrot_image(mandel_set6, **slow_args)"
      ],
      "execution_count": null,
      "outputs": []
    },
    {
      "cell_type": "markdown",
      "metadata": {
        "id": "UaecXynyAYv8"
      },
      "source": [
        "### Implementation: Fortran\n",
        "\n",
        "The `f2py` tool included with numpy can be used to bind fortran code to python. I don't have any fortran magic installed, so here is just the fortran code that implements the same algorithm:"
      ]
    },
    {
      "cell_type": "code",
      "metadata": {
        "id": "FVLlN1QaAYv8"
      },
      "source": [
        "%%writefile mandel07.f90\n",
        "subroutine mandel_set7(xmin, xmax, ymin, ymax, width, height, maxiter, n)\n",
        "    real(8), intent(in)   :: xmin, xmax, ymin, ymax\n",
        "    integer, intent(in)   :: width, height, maxiter\n",
        "    integer               :: niter\n",
        "    integer, dimension(height, width), intent(out) :: n\n",
        "    integer               :: x, y\n",
        "    real(8)               :: xstep, ystep\n",
        "    \n",
        "    xstep = (xmax - xmin) / (width - 1)\n",
        "    ystep = (ymax - ymin) / (width - 1)\n",
        "    do x = 1, width\n",
        "        do y = 1, height\n",
        "            call mandel7(xmin + (x - 1) * xstep, ymin + (y - 1) * ystep, maxiter, niter)\n",
        "            n(y, x) = niter\n",
        "        end do\n",
        "    end do\n",
        "end subroutine mandel_set7\n",
        "\n",
        "subroutine mandel7(cre, cim, itermax, n)\n",
        "    real(8), intent(in)      :: cre, cim\n",
        "    integer, intent(in)      :: itermax\n",
        "    integer, intent(out)     :: n\n",
        "    real(8)                  :: re2, im2, re, im\n",
        "\n",
        "    re = cre\n",
        "    im = cim \n",
        "    do n = 0, itermax - 1\n",
        "        re2 = re ** 2\n",
        "        im2 = im ** 2\n",
        "        if (re2 + im2 > 4.0) then\n",
        "            exit\n",
        "        end if\n",
        "        im = 2 * re * im + cim\n",
        "        re = re2 - im2 + cre\n",
        "    end do\n",
        "end subroutine mandel7\n"
      ],
      "execution_count": null,
      "outputs": []
    },
    {
      "cell_type": "markdown",
      "metadata": {
        "id": "jAM40BlkAYv8"
      },
      "source": [
        "Which was compiled into the mb_fort module with the following line.\n"
      ]
    },
    {
      "cell_type": "code",
      "metadata": {
        "id": "tKKSA_-9Js1a"
      },
      "source": [
        "!f2py -m mb_fort -c mandel07.f90 --fcompiler=gnu95 --opt=-O3"
      ],
      "execution_count": null,
      "outputs": []
    },
    {
      "cell_type": "code",
      "metadata": {
        "id": "n8kORtwrAYv8"
      },
      "source": [
        "from mb_fort import mandel7, mandel_set7"
      ],
      "execution_count": null,
      "outputs": []
    },
    {
      "cell_type": "code",
      "metadata": {
        "id": "TGn05GJRAYv8"
      },
      "source": [
        "t1 = %timeit -o mandel_set7(**fast_args)"
      ],
      "execution_count": null,
      "outputs": []
    },
    {
      "cell_type": "code",
      "metadata": {
        "id": "QqVDql0NAYv8"
      },
      "source": [
        "t2 = %timeit -o mandel_set7(**slow_args)"
      ],
      "execution_count": null,
      "outputs": []
    },
    {
      "cell_type": "code",
      "metadata": {
        "id": "PA5lE8aLuCBo"
      },
      "source": [
        "all_results.append(\n",
        "    TimingResult(\n",
        "        name='Fortran',\n",
        "        uses_gpu = False,\n",
        "        timing_result1 = get_timing(t1),\n",
        "        timing_result2 = get_timing(t2)))"
      ],
      "execution_count": null,
      "outputs": []
    },
    {
      "cell_type": "code",
      "metadata": {
        "id": "-QXm9c96AYv9"
      },
      "source": [
        "mandelbrot_image(mandel_set7, **slow_args)"
      ],
      "execution_count": null,
      "outputs": []
    },
    {
      "cell_type": "markdown",
      "metadata": {
        "id": "nd2pLvDZnu6X"
      },
      "source": [
        "## GPU based implementations\n"
      ]
    },
    {
      "cell_type": "markdown",
      "metadata": {
        "id": "QAeMoH2UAYv6"
      },
      "source": [
        "### Implementation: Cupy\n",
        "\n",
        "TODO: Text here\n"
      ]
    },
    {
      "cell_type": "code",
      "metadata": {
        "id": "O1WyYNgbAYv7"
      },
      "source": [
        "import cupy as cp\n",
        "\n",
        "# Limit the total amount of GPU memory allocated by cupy.\n",
        "cp.get_default_memory_pool().set_limit(4 * 1024**3)\n",
        "\n",
        "# Note that this function does not specify and types nor sepcific packages.\n",
        "def inner_loop(real, imag, grid_r, grid_i):\n",
        "    real2 = real*real\n",
        "    imag2 = imag*imag\n",
        "    not_diverged = (real + imag) < 4.0\n",
        "    imag = 2 * real*imag + grid_i\n",
        "    real = real2 - imag2 + grid_r \n",
        "    return real, imag, not_diverged\n",
        "\n",
        "mandelbrot_kernel = cp.fuse(inner_loop)\n",
        "\n",
        "def mandel_set8(xmin=-2.0, xmax=0.5, ymin=-1.25, ymax=1.25, width=1024, height=1024, maxiter=80):\n",
        "  r = cp.linspace(xmin, xmax, width)\n",
        "  i = cp.linspace(ymin, ymax, height)\n",
        "  grid_r, grid_i = cp.meshgrid(r, i)\n",
        "  res = cp.zeros_like(grid_r)\n",
        "\n",
        "  real = grid_r\n",
        "  imag = grid_i\n",
        "  for n in range(maxiter):\n",
        "      real, imag, not_diverged = mandelbrot_kernel(real, imag, grid_r, grid_i)\n",
        "      res += not_diverged\n",
        "\n",
        "  return cp.asnumpy(res)\n",
        "\n",
        "# Kick initial compilation off.\n",
        "_ = mandel_set8(**fast_args)"
      ],
      "execution_count": null,
      "outputs": []
    },
    {
      "cell_type": "code",
      "metadata": {
        "id": "uXCWs1P4UaXq"
      },
      "source": [
        "t1 = %timeit -o mandel_set8(**fast_args)"
      ],
      "execution_count": null,
      "outputs": []
    },
    {
      "cell_type": "code",
      "metadata": {
        "id": "xiPxUSAJTrur"
      },
      "source": [
        "t2 = %timeit -o mandel_set8(**slow_args)"
      ],
      "execution_count": null,
      "outputs": []
    },
    {
      "cell_type": "code",
      "metadata": {
        "id": "q3DRGJKjuJf7"
      },
      "source": [
        "all_results.append(\n",
        "    TimingResult(\n",
        "        name='Cupy',\n",
        "        uses_gpu = True,\n",
        "        timing_result1 = get_timing(t1),\n",
        "        timing_result2 = get_timing(t2)))"
      ],
      "execution_count": null,
      "outputs": []
    },
    {
      "cell_type": "code",
      "metadata": {
        "id": "XeGR7EMgRpA3"
      },
      "source": [
        "mandelbrot_image(mandel_set8, **slow_args)"
      ],
      "execution_count": null,
      "outputs": []
    },
    {
      "cell_type": "markdown",
      "metadata": {
        "id": "VT1s8J-sAYv9"
      },
      "source": [
        "### Implementation: JAX XLA and JIT\n",
        "\n"
      ]
    },
    {
      "cell_type": "code",
      "metadata": {
        "id": "JcqO_faxU15O"
      },
      "source": [
        "from functools import partial\n",
        "\n",
        "# Note that this function does not specify and types nor sepcific packages.\n",
        "def inner_loop(real, imag, grid_r, grid_i):\n",
        "    real2 = real*real\n",
        "    imag2 = imag*imag\n",
        "    not_diverged = (real + imag) < 4.0\n",
        "    imag = 2 * real*imag + grid_i\n",
        "    real = real2 - imag2 + grid_r \n",
        "    return real, imag, not_diverged\n",
        "\n",
        "\n",
        "def outer_loop(state, grid_r, grid_i):\n",
        "    [res, real, imag] = state\n",
        "    real, imag, not_diverged = inner_loop(real, imag, grid_r, grid_i)\n",
        "    res += not_diverged\n",
        "    return [res, real, imag]\n",
        "\n",
        "\n",
        "def mandel_set9(xmin=-2.0, xmax=0.5, ymin=-1.25, ymax=1.25, width=1024, height=1024, maxiter=80):\n",
        "    r = jnp.linspace(xmin, xmax, width)\n",
        "    i = jnp.linspace(ymin, ymax, height)\n",
        "    grid_r, grid_i = jnp.meshgrid(r, i)\n",
        "    res = jnp.zeros_like(grid_r)\n",
        "    state = [res, grid_r, grid_i]\n",
        "    res, _, _ = jax.lax.fori_loop(0, maxiter, lambda i, s: outer_loop(s, grid_r, grid_i), state)\n",
        "    return res\n",
        "\n",
        "\n",
        "# Unfortunately we have to hardcode command line params.\n",
        "mandel_set9_fast = jax.jit(partial(mandel_set9, **fast_args))\n",
        "mandel_set9_slow = jax.jit(partial(mandel_set9, **slow_args))\n",
        "\n",
        "_ = mandel_set9_fast().block_until_ready()\n",
        "_ = mandel_set9_slow().block_until_ready()\n"
      ],
      "execution_count": null,
      "outputs": []
    },
    {
      "cell_type": "code",
      "metadata": {
        "id": "arfGejUZU17-"
      },
      "source": [
        "t1 = %timeit -o mandel_set9_fast().block_until_ready()"
      ],
      "execution_count": null,
      "outputs": []
    },
    {
      "cell_type": "code",
      "metadata": {
        "id": "j95RlM52U1-5"
      },
      "source": [
        "t2 = %timeit -o mandel_set9_slow().block_until_ready()"
      ],
      "execution_count": null,
      "outputs": []
    },
    {
      "cell_type": "code",
      "metadata": {
        "id": "NPkotSyduLeO"
      },
      "source": [
        "all_results.append(\n",
        "    TimingResult(\n",
        "        name='JAX',\n",
        "        uses_gpu = True,\n",
        "        timing_result1 = get_timing(t1),\n",
        "        timing_result2 = get_timing(t2)))"
      ],
      "execution_count": null,
      "outputs": []
    },
    {
      "cell_type": "code",
      "metadata": {
        "id": "H82etBBWU2CD"
      },
      "source": [
        "mandelbrot_image(mandel_set9_slow)"
      ],
      "execution_count": null,
      "outputs": []
    },
    {
      "cell_type": "markdown",
      "metadata": {
        "id": "Z1QeclI-AYv-"
      },
      "source": [
        "### Implementation: Tensorflow"
      ]
    },
    {
      "cell_type": "code",
      "metadata": {
        "id": "m8R9t1UIB8mS"
      },
      "source": [
        "import collections\n",
        "Loopvars = collections.namedtuple('Loopvars', 'real, imag, res')\n",
        "\n",
        "\n",
        "@tf.function(experimental_compile=True, experimental_follow_type_hints=True)\n",
        "def inner_loop(real: tf.Tensor, imag: tf.Tensor, grid_r: tf.Tensor, grid_i: tf.Tensor):\n",
        "    real2 = real*real\n",
        "    imag2 = imag*imag\n",
        "    not_diverged = tf.cast(real + imag < 4.0, tf.int32)\n",
        "    imag = 2 * real*imag + grid_i\n",
        "    real = real2 - imag2 + grid_r\n",
        "    return real, imag, not_diverged\n",
        "\n",
        "@tf.function(experimental_compile=True, experimental_follow_type_hints=True)\n",
        "def outer_loop(grid_r: tf.Tensor, grid_i: tf.Tensor, maxiter: int):\n",
        "    res = tf.zeros_like(grid_r, dtype=tf.int32)\n",
        "    real = tf.identity(grid_r)\n",
        "    imag = tf.identity(grid_i)\n",
        "\n",
        "    initial_vars = (tf.constant(0), Loopvars(real, imag, res))\n",
        "    cond = lambda i, v: i < maxiter\n",
        "    def body(i, v):\n",
        "        real, imag, not_diverged = inner_loop(v.real, v.imag, grid_r, grid_i)\n",
        "        return (i + 1, Loopvars(real, imag, v.res + not_diverged))\n",
        "\n",
        "    final_vars = tf.while_loop(cond, body, initial_vars)\n",
        "    return final_vars[1].res\n",
        "\n",
        "def mandel_set10(xmin: float, xmax: float, ymin: float, ymax: float, width: int, height: int, maxiter: int):\n",
        "    r = tf.linspace(xmin, xmax, width)\n",
        "    i = tf.linspace(ymin, ymax, height)\n",
        "    grid_r, grid_i = tf.meshgrid(r, i)\n",
        "    res = outer_loop(grid_r, grid_i, maxiter)\n",
        "    return res.numpy()\n",
        "\n",
        "\n",
        "_ = mandel_set10(**fast_args)"
      ],
      "execution_count": null,
      "outputs": []
    },
    {
      "cell_type": "code",
      "metadata": {
        "id": "QoZfr663m6jb"
      },
      "source": [
        "t1 = %timeit -o mandel_set10(**fast_args)"
      ],
      "execution_count": null,
      "outputs": []
    },
    {
      "cell_type": "code",
      "metadata": {
        "id": "fRngGRjFo72z"
      },
      "source": [
        "t2 = %timeit -o mandel_set10(**slow_args)"
      ],
      "execution_count": null,
      "outputs": []
    },
    {
      "cell_type": "code",
      "metadata": {
        "id": "QAbBLu9OuM7_"
      },
      "source": [
        "all_results.append(\n",
        "    TimingResult(\n",
        "        name='Tensorflow',\n",
        "        uses_gpu = True,\n",
        "        timing_result1 = get_timing(t1),\n",
        "        timing_result2 = get_timing(t2)))"
      ],
      "execution_count": null,
      "outputs": []
    },
    {
      "cell_type": "code",
      "metadata": {
        "id": "wKnl_5yQnIhy"
      },
      "source": [
        "mandelbrot_image(mandel_set10, **slow_args)"
      ],
      "execution_count": null,
      "outputs": []
    },
    {
      "cell_type": "markdown",
      "metadata": {
        "id": "2ugWosh7PWB7"
      },
      "source": [
        "### Implementation: Tensorflow Numpy"
      ]
    },
    {
      "cell_type": "code",
      "metadata": {
        "id": "ZNW1qHyfsRZb"
      },
      "source": [
        "# Note that this function does not specify and types nor sepcific packages.\n",
        "@tf.function\n",
        "def inner_loop(real, imag, grid_r, grid_i):\n",
        "    real2 = real*real\n",
        "    imag2 = imag*imag\n",
        "    not_diverged = (real + imag) < 4.0\n",
        "    imag = 2 * real*imag + grid_i\n",
        "    real = real2 - imag2 + grid_r \n",
        "    return real, imag, not_diverged\n",
        "\n",
        "\n",
        "def mandel_set11(xmin=-2.0, xmax=0.5, ymin=-1.25, ymax=1.25, width=1024, height=1024, maxiter=80):\n",
        "    r = tnp.linspace(xmin, xmax, width)\n",
        "    i = tnp.linspace(ymin, ymax, height)\n",
        "    grid_r, grid_i = tnp.meshgrid(r, i)\n",
        "    res = tnp.zeros_like(grid_r, dtype=tf.int32)\n",
        "\n",
        "    real = grid_r\n",
        "    imag = grid_i\n",
        "    for n in range(maxiter):\n",
        "        real, imag, not_diverged = inner_loop(real, imag, grid_r, grid_i)\n",
        "        res += tf.cast(not_diverged, tf.int32)\n",
        "\n",
        "    return res\n",
        "\n",
        "_ = mandel_set11(**fast_args)\n"
      ],
      "execution_count": null,
      "outputs": []
    },
    {
      "cell_type": "code",
      "metadata": {
        "id": "Ik1n6zphQX8b"
      },
      "source": [
        "t1 = %timeit -o mandel_set11(**fast_args)"
      ],
      "execution_count": null,
      "outputs": []
    },
    {
      "cell_type": "code",
      "metadata": {
        "id": "Qu-Pr3YjQ8lN"
      },
      "source": [
        "t2 = %timeit -o mandel_set11(**slow_args)"
      ],
      "execution_count": null,
      "outputs": []
    },
    {
      "cell_type": "code",
      "metadata": {
        "id": "ll3z2ubbuONC"
      },
      "source": [
        "all_results.append(\n",
        "    TimingResult(\n",
        "        name='TF Numpy',\n",
        "        uses_gpu = True,\n",
        "        timing_result1 = get_timing(t1),\n",
        "        timing_result2 = get_timing(t2)))"
      ],
      "execution_count": null,
      "outputs": []
    },
    {
      "cell_type": "code",
      "metadata": {
        "id": "8VKdTF5zRByS"
      },
      "source": [
        "mandelbrot_image(mandel_set11, **slow_args)"
      ],
      "execution_count": null,
      "outputs": []
    },
    {
      "cell_type": "markdown",
      "metadata": {
        "id": "2TOae8WhW9kR"
      },
      "source": [
        "### Implementation: Numba & Cuda"
      ]
    },
    {
      "cell_type": "code",
      "metadata": {
        "id": "OHecT7lU0ZO6"
      },
      "source": [
        "import numpy\n",
        "import cupy as cp\n",
        "from numba import cuda\n",
        "from numba import vectorize\n",
        "\n",
        "\n",
        "def inner_loop(creal, cimag, maxiter):\n",
        "    real = creal\n",
        "    imag = cimag\n",
        "    for n in range(maxiter):\n",
        "        real2 = real*real\n",
        "        imag2 = imag*imag\n",
        "        if real2 + imag2 > 4.0:\n",
        "            return n\n",
        "        imag = 2 * real*imag + cimag\n",
        "        real = real2 - imag2 + creal       \n",
        "    return n\n",
        "\n",
        "\n",
        "inner_loop_gpu = cuda.jit(device=True)(inner_loop)\n",
        "\n",
        "@cuda.jit\n",
        "def mandel_set12_gpu(M, xmin, xmax, ymin, ymax,  maxiter):\n",
        "    \"\"\"Calculate the Mandelbrot set on the GPU.\n",
        "    Parameters\n",
        "    ----------\n",
        "    M : numpy.ndarray\n",
        "        a two-dimensional integer array that will contain the \n",
        "        escape times for each point.\n",
        "    xmin: float\n",
        "        minimum value on the real axis\n",
        "    xmax: float\n",
        "        maximum value on the real axis\n",
        "    ymin: float\n",
        "        minimum value on the imaginary axis\n",
        "    ymax: float\n",
        "        maximum value on the imaginary axis\n",
        "    \"\"\"\n",
        "    ny, nx = M.shape\n",
        "    i, j = cuda.grid(2)\n",
        "    \n",
        "    if i < ny and j < nx:\n",
        "        dx = (xmax - xmin) / nx\n",
        "        dy = (ymax - ymin) / ny\n",
        "        M[j, i] = inner_loop_gpu(xmin + dx * i, ymin + dy * j, maxiter)\n",
        "\n",
        "\n",
        "def mandel_set12(xmin=-2.0, xmax=0.5, ymin=-1.25, ymax=1.25, width=1024, height=1024, maxiter=80):\n",
        "  # We define M as a Cupy device array on GPU memory.\n",
        "  M = cp.zeros((height, width), dtype=numpy.int32)\n",
        "  block = (32, 32)\n",
        "  grid = (M.shape[0] // block[0] if M.shape[0] % block[0] == 0 \n",
        "              else M.shape[0] // block[0] + 1,\n",
        "          int(M.shape[0] // block[1] if M.shape[1] % block[1] == 0 \n",
        "              else M.shape[1] // block[1] + 1))\n",
        "  mandel_set12_gpu[grid, block](M, xmin, xmax, ymin, ymax, maxiter)\n",
        "  # Only now we have to copy the results back to host memory.\n",
        "  return cp.asnumpy(M)"
      ],
      "execution_count": null,
      "outputs": []
    },
    {
      "cell_type": "code",
      "metadata": {
        "id": "BnJU8mbT0edr"
      },
      "source": [
        "t1 = %timeit -o mandel_set12(**fast_args)"
      ],
      "execution_count": null,
      "outputs": []
    },
    {
      "cell_type": "code",
      "metadata": {
        "id": "tbGQC7ae0pRP"
      },
      "source": [
        "t2 = %timeit -o mandel_set12(**slow_args)"
      ],
      "execution_count": null,
      "outputs": []
    },
    {
      "cell_type": "code",
      "metadata": {
        "id": "f4sanjqUuP5S"
      },
      "source": [
        "all_results.append(\n",
        "    TimingResult(\n",
        "        name='Cuda Numba',\n",
        "        uses_gpu = True,\n",
        "        timing_result1 = get_timing(t1),\n",
        "        timing_result2 = get_timing(t2)))"
      ],
      "execution_count": null,
      "outputs": []
    },
    {
      "cell_type": "code",
      "metadata": {
        "id": "z-Hk8tIzc5-X"
      },
      "source": [
        "mandelbrot_image(mandel_set12, **slow_args)"
      ],
      "execution_count": null,
      "outputs": []
    },
    {
      "cell_type": "code",
      "metadata": {
        "id": "hqgj_NRp_Gcg"
      },
      "source": [
        "df_timings = pd.DataFrame.from_records([asdict(x) for x in all_results])\n",
        "df_timings['fast_set'] = df_timings.timing_result1.apply(np.median)\n",
        "df_timings['slow_set'] = df_timings.timing_result2.apply(np.median)\n",
        "df_timings['speedup_fast_set'] = (df_timings.fast_set / df_timings.fast_set[0]).round(2)\n",
        "df_timings['speedup_slow_set'] = (df_timings.slow_set / df_timings.slow_set[0]).round(2)"
      ],
      "execution_count": null,
      "outputs": []
    },
    {
      "cell_type": "code",
      "metadata": {
        "id": "Fw0gMdsT_ROe"
      },
      "source": [
        "df_timings[['name', 'uses_gpu', 'fast_set', 'slow_set', 'speedup_fast_set', 'speedup_slow_set']]"
      ],
      "execution_count": null,
      "outputs": []
    }
  ]
}