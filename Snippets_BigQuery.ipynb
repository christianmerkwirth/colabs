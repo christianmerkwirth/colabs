{
  "nbformat": 4,
  "nbformat_minor": 0,
  "metadata": {
    "colab": {
      "name": "Snippets: BigQuery",
      "version": "0.3.2",
      "provenance": [],
      "collapsed_sections": [],
      "toc_visible": true,
      "include_colab_link": true
    },
    "kernelspec": {
      "display_name": "Python 3",
      "name": "python3"
    }
  },
  "cells": [
    {
      "cell_type": "markdown",
      "metadata": {
        "id": "view-in-github",
        "colab_type": "text"
      },
      "source": [
        "<a href=\"https://colab.research.google.com/github/christianmerkwirth/colabs/blob/master/Snippets_BigQuery.ipynb\" target=\"_parent\"><img src=\"https://colab.research.google.com/assets/colab-badge.svg\" alt=\"Open In Colab\"/></a>"
      ]
    },
    {
      "metadata": {
        "colab_type": "text",
        "id": "KcAZ2RHCg_Ze"
      },
      "cell_type": "markdown",
      "source": [
        "# Using BigQuery with Pandas API\n",
        "\n",
        "\n",
        "1.   Use the [Cloud Resource Manager](https://console.cloud.google.com/cloud-resource-manager) to Create a Cloud Platform project if you do not already have one.\n",
        "2.   [Enable billing](https://support.google.com/cloud/answer/6293499#enable-billing) for the project.\n",
        "3.   [Enable BigQuery](https://console.cloud.google.com/flows/enableapi?apiid=bigquery) APIs for the project.\n"
      ]
    },
    {
      "metadata": {
        "colab_type": "code",
        "id": "XHUPlLRgNBgS",
        "colab": {}
      },
      "cell_type": "code",
      "source": [
        "from google.colab import auth\n",
        "auth.authenticate_user()"
      ],
      "execution_count": 0,
      "outputs": []
    },
    {
      "metadata": {
        "colab_type": "code",
        "id": "nFF9Wz1CAyVI",
        "outputId": "db51ba7b-bd14-45d5-94eb-edbf62fce0ba",
        "colab": {
          "base_uri": "https://localhost:8080/",
          "height": 34
        }
      },
      "cell_type": "code",
      "source": [
        "import pandas as pd\n",
        "\n",
        "# https://cloud.google.com/resource-manager/docs/creating-managing-projects\n",
        "project_id = 'river-vigil-178615'\n",
        "sample_count = 2000\n",
        "row_count = pd.io.gbq.read_gbq('''\n",
        "  SELECT \n",
        "    COUNT(*) as total\n",
        "  FROM [bigquery-public-data:samples.gsod]''', project_id=project_id, verbose=False).total[0]\n",
        "df = pd.io.gbq.read_gbq('''\n",
        "  SELECT\n",
        "    *\n",
        "  FROM\n",
        "    [bigquery-public-data:samples.gsod]\n",
        "  WHERE RAND() < %d/%d\n",
        "''' % (sample_count, row_count), project_id=project_id, verbose=False)\n",
        "print('Full dataset has %d rows' % row_count)"
      ],
      "execution_count": 0,
      "outputs": [
        {
          "output_type": "stream",
          "text": [
            "Full dataset has 114420316 rows\n"
          ],
          "name": "stdout"
        }
      ]
    },
    {
      "metadata": {
        "colab_type": "code",
        "id": "Q5UVxPB_IK7Y",
        "outputId": "0d0f7bf1-e9e6-4db9-b217-c44bc6f44230",
        "colab": {
          "base_uri": "https://localhost:8080/",
          "height": 317
        }
      },
      "cell_type": "code",
      "source": [
        "df.describe()"
      ],
      "execution_count": 0,
      "outputs": [
        {
          "output_type": "execute_result",
          "data": {
            "text/html": [
              "<div>\n",
              "<style scoped>\n",
              "    .dataframe tbody tr th:only-of-type {\n",
              "        vertical-align: middle;\n",
              "    }\n",
              "\n",
              "    .dataframe tbody tr th {\n",
              "        vertical-align: top;\n",
              "    }\n",
              "\n",
              "    .dataframe thead th {\n",
              "        text-align: right;\n",
              "    }\n",
              "</style>\n",
              "<table border=\"1\" class=\"dataframe\">\n",
              "  <thead>\n",
              "    <tr style=\"text-align: right;\">\n",
              "      <th></th>\n",
              "      <th>station_number</th>\n",
              "      <th>wban_number</th>\n",
              "      <th>year</th>\n",
              "      <th>month</th>\n",
              "      <th>day</th>\n",
              "      <th>mean_temp</th>\n",
              "      <th>num_mean_temp_samples</th>\n",
              "      <th>mean_dew_point</th>\n",
              "      <th>mean_sealevel_pressure</th>\n",
              "      <th>mean_station_pressure</th>\n",
              "      <th>mean_visibility</th>\n",
              "      <th>mean_wind_speed</th>\n",
              "      <th>max_sustained_wind_speed</th>\n",
              "      <th>max_gust_wind_speed</th>\n",
              "      <th>max_temperature</th>\n",
              "      <th>min_temperature</th>\n",
              "      <th>total_precipitation</th>\n",
              "      <th>snow_depth</th>\n",
              "    </tr>\n",
              "  </thead>\n",
              "  <tbody>\n",
              "    <tr>\n",
              "      <th>count</th>\n",
              "      <td>1991.000000</td>\n",
              "      <td>1991.000000</td>\n",
              "      <td>1991.000000</td>\n",
              "      <td>1991.000000</td>\n",
              "      <td>1991.000000</td>\n",
              "      <td>1991.000000</td>\n",
              "      <td>1991.000000</td>\n",
              "      <td>1906.000000</td>\n",
              "      <td>1517.000000</td>\n",
              "      <td>770.000000</td>\n",
              "      <td>1813.000000</td>\n",
              "      <td>1972.000000</td>\n",
              "      <td>1930.000000</td>\n",
              "      <td>259.000000</td>\n",
              "      <td>1988.000000</td>\n",
              "      <td>0.0</td>\n",
              "      <td>1830.000000</td>\n",
              "      <td>114.000000</td>\n",
              "    </tr>\n",
              "    <tr>\n",
              "      <th>mean</th>\n",
              "      <td>512401.349573</td>\n",
              "      <td>90404.040181</td>\n",
              "      <td>1987.279759</td>\n",
              "      <td>6.532396</td>\n",
              "      <td>15.512808</td>\n",
              "      <td>51.797840</td>\n",
              "      <td>12.904068</td>\n",
              "      <td>41.326128</td>\n",
              "      <td>1015.022742</td>\n",
              "      <td>965.299221</td>\n",
              "      <td>12.408274</td>\n",
              "      <td>6.705882</td>\n",
              "      <td>12.121865</td>\n",
              "      <td>24.976834</td>\n",
              "      <td>43.308853</td>\n",
              "      <td>NaN</td>\n",
              "      <td>0.071339</td>\n",
              "      <td>9.661403</td>\n",
              "    </tr>\n",
              "    <tr>\n",
              "      <th>std</th>\n",
              "      <td>295708.086879</td>\n",
              "      <td>25989.790289</td>\n",
              "      <td>16.121137</td>\n",
              "      <td>3.471033</td>\n",
              "      <td>8.873410</td>\n",
              "      <td>24.440612</td>\n",
              "      <td>7.826468</td>\n",
              "      <td>23.364417</td>\n",
              "      <td>9.658672</td>\n",
              "      <td>70.087111</td>\n",
              "      <td>9.908765</td>\n",
              "      <td>4.989015</td>\n",
              "      <td>6.749390</td>\n",
              "      <td>8.280008</td>\n",
              "      <td>24.462858</td>\n",
              "      <td>NaN</td>\n",
              "      <td>0.303457</td>\n",
              "      <td>11.116833</td>\n",
              "    </tr>\n",
              "    <tr>\n",
              "      <th>min</th>\n",
              "      <td>10015.000000</td>\n",
              "      <td>191.000000</td>\n",
              "      <td>1934.000000</td>\n",
              "      <td>1.000000</td>\n",
              "      <td>1.000000</td>\n",
              "      <td>-48.700001</td>\n",
              "      <td>4.000000</td>\n",
              "      <td>-53.200001</td>\n",
              "      <td>952.000000</td>\n",
              "      <td>604.599976</td>\n",
              "      <td>0.000000</td>\n",
              "      <td>0.000000</td>\n",
              "      <td>1.000000</td>\n",
              "      <td>7.000000</td>\n",
              "      <td>-57.099998</td>\n",
              "      <td>NaN</td>\n",
              "      <td>0.000000</td>\n",
              "      <td>0.400000</td>\n",
              "    </tr>\n",
              "    <tr>\n",
              "      <th>25%</th>\n",
              "      <td>264930.000000</td>\n",
              "      <td>99999.000000</td>\n",
              "      <td>1978.000000</td>\n",
              "      <td>4.000000</td>\n",
              "      <td>8.000000</td>\n",
              "      <td>37.450001</td>\n",
              "      <td>7.000000</td>\n",
              "      <td>28.475000</td>\n",
              "      <td>1009.799988</td>\n",
              "      <td>945.725006</td>\n",
              "      <td>6.600000</td>\n",
              "      <td>3.400000</td>\n",
              "      <td>7.800000</td>\n",
              "      <td>19.000000</td>\n",
              "      <td>30.200001</td>\n",
              "      <td>NaN</td>\n",
              "      <td>0.000000</td>\n",
              "      <td>2.000000</td>\n",
              "    </tr>\n",
              "    <tr>\n",
              "      <th>50%</th>\n",
              "      <td>557730.000000</td>\n",
              "      <td>99999.000000</td>\n",
              "      <td>1989.000000</td>\n",
              "      <td>7.000000</td>\n",
              "      <td>15.000000</td>\n",
              "      <td>55.400002</td>\n",
              "      <td>8.000000</td>\n",
              "      <td>44.400002</td>\n",
              "      <td>1014.500000</td>\n",
              "      <td>995.250000</td>\n",
              "      <td>9.900000</td>\n",
              "      <td>5.600000</td>\n",
              "      <td>11.100000</td>\n",
              "      <td>23.299999</td>\n",
              "      <td>46.599998</td>\n",
              "      <td>NaN</td>\n",
              "      <td>0.000000</td>\n",
              "      <td>6.700000</td>\n",
              "    </tr>\n",
              "    <tr>\n",
              "      <th>75%</th>\n",
              "      <td>725280.000000</td>\n",
              "      <td>99999.000000</td>\n",
              "      <td>2001.000000</td>\n",
              "      <td>10.000000</td>\n",
              "      <td>23.000000</td>\n",
              "      <td>70.599998</td>\n",
              "      <td>23.000000</td>\n",
              "      <td>58.074999</td>\n",
              "      <td>1020.599976</td>\n",
              "      <td>1009.175003</td>\n",
              "      <td>14.900000</td>\n",
              "      <td>8.800000</td>\n",
              "      <td>15.000000</td>\n",
              "      <td>29.900000</td>\n",
              "      <td>61.000000</td>\n",
              "      <td>NaN</td>\n",
              "      <td>0.010000</td>\n",
              "      <td>12.000000</td>\n",
              "    </tr>\n",
              "    <tr>\n",
              "      <th>max</th>\n",
              "      <td>999999.000000</td>\n",
              "      <td>99999.000000</td>\n",
              "      <td>2010.000000</td>\n",
              "      <td>12.000000</td>\n",
              "      <td>31.000000</td>\n",
              "      <td>98.000000</td>\n",
              "      <td>24.000000</td>\n",
              "      <td>81.400002</td>\n",
              "      <td>1056.900024</td>\n",
              "      <td>1038.500000</td>\n",
              "      <td>99.400002</td>\n",
              "      <td>44.400002</td>\n",
              "      <td>58.299999</td>\n",
              "      <td>56.900002</td>\n",
              "      <td>88.900002</td>\n",
              "      <td>NaN</td>\n",
              "      <td>5.790000</td>\n",
              "      <td>60.599998</td>\n",
              "    </tr>\n",
              "  </tbody>\n",
              "</table>\n",
              "</div>"
            ],
            "text/plain": [
              "       station_number   wban_number         year        month          day  \\\n",
              "count     1991.000000   1991.000000  1991.000000  1991.000000  1991.000000   \n",
              "mean    512401.349573  90404.040181  1987.279759     6.532396    15.512808   \n",
              "std     295708.086879  25989.790289    16.121137     3.471033     8.873410   \n",
              "min      10015.000000    191.000000  1934.000000     1.000000     1.000000   \n",
              "25%     264930.000000  99999.000000  1978.000000     4.000000     8.000000   \n",
              "50%     557730.000000  99999.000000  1989.000000     7.000000    15.000000   \n",
              "75%     725280.000000  99999.000000  2001.000000    10.000000    23.000000   \n",
              "max     999999.000000  99999.000000  2010.000000    12.000000    31.000000   \n",
              "\n",
              "         mean_temp  num_mean_temp_samples  mean_dew_point  \\\n",
              "count  1991.000000            1991.000000     1906.000000   \n",
              "mean     51.797840              12.904068       41.326128   \n",
              "std      24.440612               7.826468       23.364417   \n",
              "min     -48.700001               4.000000      -53.200001   \n",
              "25%      37.450001               7.000000       28.475000   \n",
              "50%      55.400002               8.000000       44.400002   \n",
              "75%      70.599998              23.000000       58.074999   \n",
              "max      98.000000              24.000000       81.400002   \n",
              "\n",
              "       mean_sealevel_pressure  mean_station_pressure  mean_visibility  \\\n",
              "count             1517.000000             770.000000      1813.000000   \n",
              "mean              1015.022742             965.299221        12.408274   \n",
              "std                  9.658672              70.087111         9.908765   \n",
              "min                952.000000             604.599976         0.000000   \n",
              "25%               1009.799988             945.725006         6.600000   \n",
              "50%               1014.500000             995.250000         9.900000   \n",
              "75%               1020.599976            1009.175003        14.900000   \n",
              "max               1056.900024            1038.500000        99.400002   \n",
              "\n",
              "       mean_wind_speed  max_sustained_wind_speed  max_gust_wind_speed  \\\n",
              "count      1972.000000               1930.000000           259.000000   \n",
              "mean          6.705882                 12.121865            24.976834   \n",
              "std           4.989015                  6.749390             8.280008   \n",
              "min           0.000000                  1.000000             7.000000   \n",
              "25%           3.400000                  7.800000            19.000000   \n",
              "50%           5.600000                 11.100000            23.299999   \n",
              "75%           8.800000                 15.000000            29.900000   \n",
              "max          44.400002                 58.299999            56.900002   \n",
              "\n",
              "       max_temperature  min_temperature  total_precipitation  snow_depth  \n",
              "count      1988.000000              0.0          1830.000000  114.000000  \n",
              "mean         43.308853              NaN             0.071339    9.661403  \n",
              "std          24.462858              NaN             0.303457   11.116833  \n",
              "min         -57.099998              NaN             0.000000    0.400000  \n",
              "25%          30.200001              NaN             0.000000    2.000000  \n",
              "50%          46.599998              NaN             0.000000    6.700000  \n",
              "75%          61.000000              NaN             0.010000   12.000000  \n",
              "max          88.900002              NaN             5.790000   60.599998  "
            ]
          },
          "metadata": {
            "tags": []
          },
          "execution_count": 3
        }
      ]
    },
    {
      "metadata": {
        "colab_type": "text",
        "id": "rPPz4GqHCLOO"
      },
      "cell_type": "markdown",
      "source": [
        "## More info\n",
        "\n",
        "- The [GSOD sample table](https://bigquery.cloud.google.com/table/bigquery-public-data:samples.gsod) contains weather information collected by NOAA, such as precipitation amounts and wind speeds from late 1929 to early 2010.\n",
        "- [Pandas GBQ Documentation](https://pandas.pydata.org/pandas-docs/stable/generated/pandas.read_gbq.html)\n"
      ]
    },
    {
      "metadata": {
        "colab_type": "text",
        "id": "HeZN5bOEl2iI"
      },
      "cell_type": "markdown",
      "source": [
        "# Using BigQuery with Cloud API\n",
        "\n",
        "\n",
        "1.   Use the [Cloud Resource Manager](https://console.cloud.google.com/cloud-resource-manager) to Create a Cloud Platform project if you do not already have one.\n",
        "2.   [Enable billing](https://support.google.com/cloud/answer/6293499#enable-billing) for the project.\n",
        "3.   [Enable BigQuery](https://console.cloud.google.com/flows/enableapi?apiid=bigquery) APIs for the project.\n",
        "\n",
        "[BigQuery Documentation](https://googlecloudplatform.github.io/google-cloud-python/latest/bigquery/usage.html)"
      ]
    },
    {
      "metadata": {
        "colab_type": "code",
        "id": "jl97S3vfNHdz",
        "colab": {}
      },
      "cell_type": "code",
      "source": [
        "from google.colab import auth\n",
        "auth.authenticate_user()"
      ],
      "execution_count": 0,
      "outputs": []
    },
    {
      "metadata": {
        "colab_type": "code",
        "id": "c_ch12UEi8Jz",
        "outputId": "b8922512-d958-4ecd-da91-a10b91035dfe",
        "colab": {
          "base_uri": "https://localhost:8080/",
          "height": 34
        }
      },
      "cell_type": "code",
      "source": [
        "from google.cloud import bigquery\n",
        "\n",
        "# https://cloud.google.com/resource-manager/docs/creating-managing-projects\n",
        "project_id = 'river-vigil-178615'\n",
        "client = bigquery.Client(project=project_id)\n",
        "\n",
        "for dataset in client.list_datasets():\n",
        "  print(dataset.dataset_id)"
      ],
      "execution_count": 0,
      "outputs": [
        {
          "output_type": "stream",
          "text": [
            "spark_bigquery_staging_us\n"
          ],
          "name": "stdout"
        }
      ]
    },
    {
      "metadata": {
        "id": "1eB6LRjWYcCk",
        "colab_type": "code",
        "colab": {}
      },
      "cell_type": "code",
      "source": [
        ""
      ],
      "execution_count": 0,
      "outputs": []
    }
  ]
}