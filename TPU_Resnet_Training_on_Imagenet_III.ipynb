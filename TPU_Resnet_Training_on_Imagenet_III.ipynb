{
  "nbformat": 4,
  "nbformat_minor": 0,
  "metadata": {
    "colab": {
      "name": "TPU Resnet Training on Imagenet III",
      "version": "0.3.2",
      "provenance": [],
      "collapsed_sections": [],
      "include_colab_link": true
    },
    "kernelspec": {
      "name": "python2",
      "display_name": "Python 2"
    },
    "accelerator": "TPU"
  },
  "cells": [
    {
      "cell_type": "markdown",
      "metadata": {
        "id": "view-in-github",
        "colab_type": "text"
      },
      "source": [
        "<a href=\"https://colab.research.google.com/github/christianmerkwirth/colabs/blob/master/TPU_Resnet_Training_on_Imagenet_III.ipynb\" target=\"_parent\"><img src=\"https://colab.research.google.com/assets/colab-badge.svg\" alt=\"Open In Colab\"/></a>"
      ]
    },
    {
      "metadata": {
        "id": "ty5g5lT2zpVz",
        "colab_type": "code",
        "colab": {}
      },
      "cell_type": "code",
      "source": [
        "from __future__ import absolute_import\n",
        "from __future__ import division\n",
        "from __future__ import print_function\n",
        "\n",
        "# colab.research.google.com specific\n",
        "import sys\n",
        "\n",
        "if 'google.colab' in sys.modules:\n",
        "  import json\n",
        "  import os\n",
        "  import pprint\n",
        "  import tensorflow as tf\n",
        "\n",
        "  assert 'COLAB_TPU_ADDR' in os.environ, 'ERROR: Not connected to a TPU runtime; please see the first cell in this notebook for instructions!'\n",
        "  TPU_ADDRESS = 'grpc://' + os.environ['COLAB_TPU_ADDR']\n",
        "  print('TPU address is', TPU_ADDRESS)\n",
        "  from google.colab import auth\n",
        "  auth.authenticate_user()\n",
        "  with tf.Session(TPU_ADDRESS) as session:\n",
        "    print('TPU devices:')\n",
        "    pprint.pprint(session.list_devices())\n",
        "\n",
        "    # Upload credentials to TPU.\n",
        "    with open('/content/adc.json', 'r') as f:\n",
        "      auth_info = json.load(f)\n",
        "    tf.contrib.cloud.configure_gcs(session, credentials=auth_info)\n",
        "    # Now credentials are set for all future sessions on this TPU.\n",
        "\n",
        "    \n",
        "# Clone the offical TPU model repo.    \n",
        "!test -d tpu || git clone https://github.com/tensorflow/tpu.git\n",
        "!test -d official || mv tpu/models/official .\n",
        "!test -d common || mv tpu/models/common ."
      ],
      "execution_count": 0,
      "outputs": []
    },
    {
      "metadata": {
        "id": "Ih0PCgV-0sI5",
        "colab_type": "code",
        "colab": {}
      },
      "cell_type": "code",
      "source": [
        "# Now run the main to set up flags and constant. The main function should not be executed.\n",
        "\n",
        "from official.resnet import resnet_main"
      ],
      "execution_count": 0,
      "outputs": []
    },
    {
      "metadata": {
        "id": "BFftrYfhfZIH",
        "colab_type": "code",
        "colab": {}
      },
      "cell_type": "code",
      "source": [
        "# This cell contains the Colab-specific setup and hacks.\n",
        "\n",
        "import json\n",
        "import os\n",
        "import sys\n",
        "import time\n",
        "\n",
        "from absl import flags\n",
        "import absl.logging as _logging\n",
        "\n",
        "import tensorflow as tf\n",
        "tf.logging.set_verbosity(tf.logging.INFO)\n",
        "\n",
        "FLAGS = flags.FLAGS\n",
        "\n",
        "if 'google.colab' in sys.modules:\n",
        "  # Initiate fake FLAGS parsing.\n",
        "  FLAGS(['resnet_trainer'])\n",
        "  \n",
        "  # When connected to the TPU runtime\n",
        "  if 'COLAB_TPU_ADDR' in os.environ:\n",
        "    tpu_grpc = 'grpc://{}'.format(os.environ['COLAB_TPU_ADDR'])\n",
        "\n",
        "    FLAGS.tpu = tpu_grpc\n",
        "    FLAGS.use_tpu = True\n",
        "\n",
        "    # Upload credentials to the TPU\n",
        "    with tf.Session(tpu_grpc) as sess:\n",
        "      data = json.load(open('/content/adc.json'))\n",
        "      tf.contrib.cloud.configure_gcs(sess, credentials=data)\n"
      ],
      "execution_count": 0,
      "outputs": []
    },
    {
      "metadata": {
        "id": "57bqoXEAcPiv",
        "colab_type": "code",
        "colab": {}
      },
      "cell_type": "code",
      "source": [
        "from official.resnet import imagenet_input\n",
        "from official.resnet import lars_util\n",
        "from official.resnet import resnet_model\n",
        "\n",
        "from tensorflow.python.estimator import estimator\n",
        "      \n",
        "# Number of training and evaluation images in the standard ImageNet dataset\n",
        "NUM_TRAIN_IMAGES = 1281167\n",
        "NUM_EVAL_IMAGES = 50000\n",
        "\n",
        "# Change parameters according to your setup.\n",
        "FLAGS.model_dir = 'gs://tpu-cmerk-2/imagenet/models/resnet/20181219_002'\n",
        "FLAGS.data_dir = 'gs://tpu-cmerk-2/imagenet/train'\n",
        "\n",
        "BATCHES_PER_EPOCH = NUM_TRAIN_IMAGES / FLAGS.train_batch_size\n",
        "\n",
        "# Convert flags to dict of params so the model_fn can use TPU specific settings.\n",
        "params = FLAGS.flag_values_dict()\n",
        "    \n",
        "tpu_cluster_resolver = tf.contrib.cluster_resolver.TPUClusterResolver(FLAGS.tpu)\n",
        "\n",
        "config = tf.contrib.tpu.RunConfig(\n",
        "    cluster=tpu_cluster_resolver,\n",
        "    model_dir=FLAGS.model_dir,\n",
        "    save_checkpoints_steps=FLAGS.iterations_per_loop,\n",
        "    keep_checkpoint_max=None,\n",
        "    tpu_config=tf.contrib.tpu.TPUConfig(\n",
        "        iterations_per_loop=FLAGS.iterations_per_loop,\n",
        "        num_shards=FLAGS.num_cores,\n",
        "        per_host_input_for_training=tf.contrib.tpu.InputPipelineConfig.PER_HOST_V2))\n",
        "\n",
        "# Input pipelines are slightly different (with regards to shuffling and\n",
        "# preprocessing) between training and evaluation.\n",
        "imagenet_train = imagenet_input.ImageNetInput(\n",
        "    is_training=True,\n",
        "    data_dir=FLAGS.data_dir,\n",
        "    use_bfloat16=True,\n",
        "    transpose_input=FLAGS.transpose_input)\n",
        "imagenet_eval = imagenet_input.ImageNetInput(\n",
        "    is_training=False,\n",
        "    data_dir=FLAGS.data_dir,\n",
        "    use_bfloat16=True,\n",
        "    transpose_input=FLAGS.transpose_input)"
      ],
      "execution_count": 0,
      "outputs": []
    },
    {
      "metadata": {
        "id": "tp-Hs9nl7fmX",
        "colab_type": "code",
        "colab": {}
      },
      "cell_type": "code",
      "source": [
        "def learning_rate_schedule(unused_current_epoch):\n",
        "  \"\"\"Compute noisy cosine learningrate modulated by piecewise constant decay.\n",
        "  Used tf.train.get_global_step() to determine current batch step. Learning\n",
        "  rate is recomputed for each batch of the training.\n",
        "  Args:\n",
        "    unused_current_epoch: Unused argument.\n",
        "  Returns:\n",
        "    A scalar Tensor storing the current learning rate.\n",
        "  \"\"\"\n",
        "  global_step = tf.train.get_global_step()\n",
        "  scaled_lr = FLAGS.base_learning_rate * (FLAGS.train_batch_size / 256.0)\n",
        " \n",
        "  lr1 = 0.6 + tf.math.maximum(0.00,\n",
        "    tf.train.noisy_linear_cosine_decay(0.4,\n",
        "                                       global_step,\n",
        "                                       FLAGS.train_steps,\n",
        "                                       num_periods=90.0,\n",
        "                                       initial_variance=0.6,\n",
        "                                       alpha=0.5))\n",
        "  \n",
        "  bpe = int(BATCHES_PER_EPOCH)\n",
        "  \n",
        "  lr2 = tf.train.piecewise_constant(\n",
        "    global_step,\n",
        "    boundaries = [int(0.1 * bpe), \n",
        "                  int(0.5 * bpe),\n",
        "                  5 * bpe,\n",
        "                  15 * bpe,\n",
        "                  30 * bpe,\n",
        "                  45 * bpe,\n",
        "                  55 * bpe,\n",
        "                  70 * bpe, \n",
        "                  80 * bpe],\n",
        "    values = [0.05, 0.4, 1.0, 0.8, 0.5, 0.2, 0.1, 0.02, 0.01, 0.002])\n",
        "  \n",
        "  lr = scaled_lr * tf.math.maximum(0.001, lr1 * lr2)\n",
        "  return lr"
      ],
      "execution_count": 0,
      "outputs": []
    },
    {
      "metadata": {
        "id": "HSuSD_H3XWrE",
        "colab_type": "code",
        "colab": {}
      },
      "cell_type": "code",
      "source": [
        "resnet_main.learning_rate_schedule = learning_rate_schedule\n",
        "\n",
        "resnet_classifier = tf.contrib.tpu.TPUEstimator(\n",
        "    use_tpu=FLAGS.use_tpu,\n",
        "    model_fn=resnet_main.resnet_model_fn,\n",
        "    config=config,\n",
        "    train_batch_size=FLAGS.train_batch_size,\n",
        "    eval_batch_size=FLAGS.eval_batch_size,\n",
        "    params=params)\n",
        "\n",
        "current_step = estimator._load_global_step_from_checkpoint_dir(FLAGS.model_dir)\n",
        "\n",
        "print('Training for %d steps (%.2f epochs in total). Current step %d.' % \n",
        "      (FLAGS.train_steps, FLAGS.train_steps / BATCHES_PER_EPOCH, current_step))\n",
        "\n",
        "resnet_classifier.train(input_fn=imagenet_train.input_fn, max_steps=FLAGS.train_steps)"
      ],
      "execution_count": 0,
      "outputs": []
    },
    {
      "metadata": {
        "id": "H-GWwCat4Ve6",
        "colab_type": "code",
        "colab": {}
      },
      "cell_type": "code",
      "source": [
        "import time\n",
        "\n",
        "eval_steps = NUM_EVAL_IMAGES // FLAGS.eval_batch_size\n",
        "\n",
        "print('Starting to evaluate.')\n",
        "eval_start = time.time()  # This time will include compilation time\n",
        "eval_results = resnet_classifier.evaluate(\n",
        "    input_fn=imagenet_eval.input_fn,\n",
        "    steps=eval_steps)\n",
        "eval_time = int(time.time() - eval_start)\n",
        "print('Eval results: %s. Elapsed seconds: %d' % (eval_results, eval_time))"
      ],
      "execution_count": 0,
      "outputs": []
    }
  ]
}